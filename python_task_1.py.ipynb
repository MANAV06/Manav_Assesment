{
 "cells": [
  {
   "cell_type": "code",
   "execution_count": 1,
   "id": "567b6311-1dfb-4b98-a64f-9e922d79222a",
   "metadata": {},
   "outputs": [],
   "source": [
    "#PYTHON TASK 1 "
   ]
  },
  {
   "cell_type": "code",
   "execution_count": 2,
   "id": "4f5a2462-712d-4f9f-9d0d-e2c33f53c2ea",
   "metadata": {},
   "outputs": [],
   "source": [
    "#QUESTION 1"
   ]
  },
  {
   "cell_type": "code",
   "execution_count": null,
   "id": "8b0c3b27-cca1-4638-9b88-74d749b89db9",
   "metadata": {},
   "outputs": [],
   "source": [
    "import pandas as pd\n",
    "\n",
    "def generate_car_matrix(dataset_path):\n",
    "    # Read the CSV file into a DataFrame\n",
    "    df = pd.read_csv(dataset_path)\n",
    "\n",
    "    # Pivot the DataFrame to create the car matrix\n",
    "    car_matrix = df.pivot(index='id_1', columns='id_2', values='car').fillna(0)\n",
    "\n",
    "    # Set diagonal values to 0\n",
    "    for i in car_matrix.index:\n",
    "        car_matrix.at[i, i] = 0\n",
    "\n",
    "    return car_matrix\n",
    "\n",
    "# Example usage:\n",
    "dataset_path = 'dataset-1.csv'\n",
    "result_matrix = generate_car_matrix(dataset_path)\n",
    "print(result_matrix)"
   ]
  },
  {
   "cell_type": "code",
   "execution_count": 20,
   "id": "27e7d649-2022-4e16-b379-828134b14678",
   "metadata": {},
   "outputs": [],
   "source": [
    "#QUESTION 2"
   ]
  },
  {
   "cell_type": "code",
   "execution_count": null,
   "id": "21d6357b-e4da-49fc-bbb8-4048cf2d36f9",
   "metadata": {},
   "outputs": [],
   "source": [
    "import pandas as pd\n",
    "\n",
    "def get_type_count(dataset_path):\n",
    "    # Read the CSV file into a DataFrame\n",
    "    df = pd.read_csv(dataset_path)\n",
    "\n",
    "    # Add a new categorical column 'car_type'\n",
    "    df['car_type'] = pd.cut(df['car'], bins=[float('-inf'), 15, 25, float('inf')],\n",
    "                            labels=['low', 'medium', 'high'], right=False)\n",
    "\n",
    "    # Calculate the count of occurrences for each 'car_type' category\n",
    "    type_count = df['car_type'].value_counts().to_dict()\n",
    "\n",
    "    # Sort the dictionary alphabetically based on keys\n",
    "    type_count = dict(sorted(type_count.items()))\n",
    "\n",
    "    return type_count\n",
    "\n",
    "# Example usage:\n",
    "dataset_path = 'dataset-1.csv'\n",
    "result_dict = get_type_count(dataset_path)\n",
    "print(result_dict)"
   ]
  },
  {
   "cell_type": "code",
   "execution_count": 7,
   "id": "07b2980f-82b0-45f0-9116-2ca7aed24fd7",
   "metadata": {},
   "outputs": [],
   "source": [
    "# QUESTION 3"
   ]
  },
  {
   "cell_type": "code",
   "execution_count": null,
   "id": "5432d1ba-c435-42fd-921c-df27368280f3",
   "metadata": {},
   "outputs": [],
   "source": [
    "import pandas as pd\n",
    "\n",
    "def get_bus_indexes(dataset_path):\n",
    "    # Read the CSV file into a DataFrame\n",
    "    df = pd.read_csv(dataset_path)\n",
    "\n",
    "    # Calculate the mean value of the 'bus' column\n",
    "    bus_mean = df['bus'].mean()\n",
    "\n",
    "    # Identify indices where 'bus' values are greater than twice the mean\n",
    "    bus_indexes = df[df['bus'] > 2 * bus_mean].index.tolist()\n",
    "\n",
    "    # Sort the indices in ascending order\n",
    "    bus_indexes.sort()\n",
    "\n",
    "    return bus_indexes\n",
    "\n",
    "# Example usage:\n",
    "dataset_path = 'dataset-1.csv'\n",
    "result_indices = get_bus_indexes(dataset_path)\n",
    "print(result_indices)"
   ]
  },
  {
   "cell_type": "code",
   "execution_count": 12,
   "id": "d61c5c53-795e-41ae-88bf-f20ad1e0c1f2",
   "metadata": {},
   "outputs": [],
   "source": [
    "# QUESTION 4"
   ]
  },
  {
   "cell_type": "code",
   "execution_count": null,
   "id": "6e7741ee-e1de-4da3-a063-1eba0852496d",
   "metadata": {},
   "outputs": [],
   "source": [
    "import pandas as pd\n",
    "\n",
    "def filter_routes(dataset_path):\n",
    "    # Read the CSV file into a DataFrame\n",
    "    df = pd.read_csv(dataset_path)\n",
    "\n",
    "    # Calculate the mean value of the 'truck' column\n",
    "    avg_truck = df['truck'].mean()\n",
    "\n",
    "    # Filter routes where the average of 'truck' values is greater than 7\n",
    "    filtered_routes = df[df['truck'].mean() > 7]['route'].unique()\n",
    "\n",
    "    # Sort the list of filtered routes\n",
    "    sorted_routes = sorted(filtered_routes)\n",
    "\n",
    "    return sorted_routes\n",
    "\n",
    "# Example usage:\n",
    "dataset_path = 'dataset-1.csv'\n",
    "result_routes = filter_routes(dataset_path)\n",
    "print(result_routes)"
   ]
  },
  {
   "cell_type": "code",
   "execution_count": null,
   "id": "0bbbfc05-3f29-438b-a4de-32256b5c841a",
   "metadata": {},
   "outputs": [],
   "source": [
    "# QUESTION 5"
   ]
  },
  {
   "cell_type": "code",
   "execution_count": null,
   "id": "8c0c9126-4fc3-4e4c-a443-c90a33626a31",
   "metadata": {},
   "outputs": [],
   "source": [
    "def multiply_matrix(car_matrix):\n",
    "    # Create a deep copy of the car matrix to avoid modifying the original\n",
    "    modified_matrix = car_matrix.copy()\n",
    "\n",
    "    # Apply the specified logic to each value in the matrix\n",
    "    modified_matrix = modified_matrix.applymap(lambda x: round(0.75 * x, 1) if x > 20 else round(1.25 * x, 1))\n",
    "\n",
    "    return modified_matrix\n",
    "\n",
    "# Example usage:\n",
    "# Assuming dataset-1.csv is the path to your dataset file\n",
    "car_matrix = generate_car_matrix('dataset-1.csv')\n",
    "result_matrix = multiply_matrix(car_matrix)\n",
    "print(result_matrix)"
   ]
  },
  {
   "cell_type": "code",
   "execution_count": null,
   "id": "12e06def-18a7-4f60-b165-df38e656a6cb",
   "metadata": {},
   "outputs": [],
   "source": [
    "# QUESTION 6"
   ]
  },
  {
   "cell_type": "code",
   "execution_count": null,
   "id": "5416836c-09d1-42ad-9ce0-b0de7500a927",
   "metadata": {},
   "outputs": [],
   "source": [
    "import pandas as pd\n",
    "\n",
    "def verify_timestamps(dataset_path):\n",
    "    # Read the CSV file into a DataFrame\n",
    "    df = pd.read_csv(dataset_path)\n",
    "\n",
    "    # Combine 'startDay' and 'startTime' to create a 'start_timestamp' column\n",
    "    df['start_timestamp'] = pd.to_datetime(df['startDay'] + ' ' + df['startTime'])\n",
    "\n",
    "    # Combine 'endDay' and 'endTime' to create an 'end_timestamp' column\n",
    "    df['end_timestamp'] = pd.to_datetime(df['endDay'] + ' ' + df['endTime'])\n",
    "\n",
    "    # Create a 24-hour period for comparison\n",
    "    full_24_hours = pd.date_range('2023-01-01 00:00:00', '2023-01-01 23:59:59', freq='1H')\n",
    "\n",
    "    # Check if each (id, id_2) pair covers a full 24-hour period and spans all 7 days\n",
    "    verification_result = df.groupby(['id', 'id_2']).apply(\n",
    "        lambda group: (group['start_timestamp'].min() <= full_24_hours) & \n",
    "                      (group['end_timestamp'].max() >= full_24_hours) &\n",
    "                      (len(group['startDay'].unique()) == 7)\n",
    "    ).all()\n",
    "\n",
    "    return verification_result\n",
    "\n",
    "# Example usage:\n",
    "# Assuming dataset-2.csv is the path to your dataset file\n",
    "verification_result = verify_timestamps('dataset-2.csv')\n",
    "print(verification_result)"
   ]
  }
 ],
 "metadata": {
  "kernelspec": {
   "display_name": "Python 3 (ipykernel)",
   "language": "python",
   "name": "python3"
  },
  "language_info": {
   "codemirror_mode": {
    "name": "ipython",
    "version": 3
   },
   "file_extension": ".py",
   "mimetype": "text/x-python",
   "name": "python",
   "nbconvert_exporter": "python",
   "pygments_lexer": "ipython3",
   "version": "3.11.5"
  }
 },
 "nbformat": 4,
 "nbformat_minor": 5
}
